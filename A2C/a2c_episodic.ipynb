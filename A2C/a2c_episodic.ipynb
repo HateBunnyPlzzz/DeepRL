{
 "cells": [
  {
   "cell_type": "code",
   "execution_count": 1,
   "metadata": {},
   "outputs": [],
   "source": [
    "import numpy as np\n",
    "import torch \n",
    "import gym \n",
    "from torch import nn\n",
    "import matplotlib.pyplot as plt\n"
   ]
  },
  {
   "cell_type": "code",
   "execution_count": 2,
   "metadata": {},
   "outputs": [],
   "source": [
    "def t(x):\n",
    "    return torch.from_numpy(x).float()"
   ]
  },
  {
   "cell_type": "code",
   "execution_count": 3,
   "metadata": {},
   "outputs": [],
   "source": [
    "class Actor(nn.Module):\n",
    "    def __init__(self, state_dim, n_actions):\n",
    "        super().__init__()\n",
    "        self.model = nn.Sequential(\n",
    "            nn.Linear(state_dim, 64),\n",
    "            nn.Tanh(),\n",
    "            nn.Linear(64,32),\n",
    "            nn.Tanh(),\n",
    "            nn.Linear(32, n_actions),\n",
    "            nn.Softmax()\n",
    "        )\n",
    "    def forward(self, X):\n",
    "        return self.model(X)\n",
    "        "
   ]
  },
  {
   "cell_type": "code",
   "execution_count": 4,
   "metadata": {},
   "outputs": [],
   "source": [
    "class Critic(nn.Module):\n",
    "    def __init__(self, state_dim):\n",
    "        super().__init__()\n",
    "        self.model = nn.Sequential(\n",
    "            nn.Linear(state_dim, 64),\n",
    "            nn.ReLU(),\n",
    "            nn.Linear(64,32),\n",
    "            nn.ReLU(),\n",
    "            nn.Linear(32,1)\n",
    "        )\n",
    "    def forward(self, X):\n",
    "        return self.model(X)\n",
    "    "
   ]
  },
  {
   "cell_type": "code",
   "execution_count": 5,
   "metadata": {},
   "outputs": [],
   "source": [
    "# Memory\n",
    "# stores results from the networks, instead of calculating the \n",
    "# operations again from the states\n",
    "class Memory():\n",
    "    def __init__(self):\n",
    "        self.log_probs = []\n",
    "        self.values = []\n",
    "        self.rewards = []\n",
    "        self.dones = []\n",
    "\n",
    "    def add(self, log_prob, value, reward, done):\n",
    "        self.log_probs.append(log_prob)\n",
    "        self.values.append(value)\n",
    "        self.rewards.append(reward)\n",
    "        self.dones.append(done)\n",
    "    \n",
    "    def clear(self):\n",
    "        self.log_probs.clear()\n",
    "        self.values.clear()\n",
    "        self.rewards.clear()\n",
    "        self.dones.clear()\n",
    "    \n",
    "    def _zip(self):\n",
    "        return zip(self.log_probs,\n",
    "                   self.values,\n",
    "                   self.rewards,\n",
    "                   self.dones)\n",
    "    def __iter__(self):\n",
    "        for data in self._zip():\n",
    "            return data\n",
    "    def reversed(self):\n",
    "        for data in list(self._zip())[::-1]:\n",
    "            yield data\n",
    "    def __len__(self):\n",
    "        return len(self.rewards)\n",
    "    \n"
   ]
  },
  {
   "cell_type": "code",
   "execution_count": 6,
   "metadata": {},
   "outputs": [
    {
     "name": "stderr",
     "output_type": "stream",
     "text": [
      "/home/bunnybhaiya/.local/lib/python3.10/site-packages/gym/core.py:329: DeprecationWarning: \u001b[33mWARN: Initializing wrapper in old step API which returns one bool instead of two. It is recommended to set `new_step_api=True` to use new step API. This will be the default behaviour in future.\u001b[0m\n",
      "  deprecation(\n",
      "/home/bunnybhaiya/.local/lib/python3.10/site-packages/gym/wrappers/step_api_compatibility.py:39: DeprecationWarning: \u001b[33mWARN: Initializing environment in old step API which returns one bool instead of two. It is recommended to set `new_step_api=True` to use new step API. This will be the default behaviour in future.\u001b[0m\n",
      "  deprecation(\n"
     ]
    }
   ],
   "source": [
    "env = gym.make(\"CartPole-v1\")"
   ]
  },
  {
   "cell_type": "code",
   "execution_count": 7,
   "metadata": {},
   "outputs": [],
   "source": [
    "state_dim = env.observation_space.shape[0]\n",
    "n_actions = env.action_space.n\n",
    "actor = Actor(state_dim, n_actions)\n",
    "critic = Critic(state_dim)\n",
    "adam_actor = torch.optim.Adam(actor.parameters(), lr=1e-3)\n",
    "adam_critic = torch.optim.Adam(critic.parameters(), lr=1e-3)\n",
    "gamma = 0.99\n",
    "memory = Memory()\n",
    "max_step = 200\n"
   ]
  },
  {
   "cell_type": "code",
   "execution_count": 13,
   "metadata": {},
   "outputs": [],
   "source": [
    "def train(memory, q_val):\n",
    "    values = torch.stack(memory.values)\n",
    "    q_vals = np.zeros((len(memory), 1))\n",
    "\n",
    "    #target values are calculated backwards\n",
    "    # super important to handle correctly done states\n",
    "    # for those cases we want our target to be equal to the reward only\n",
    "    for i, (_, _, reward, done) in enumerate(memory.reversed()):\n",
    "        q_val = reward + gamma*q_val*(1.0 - done)\n",
    "        q_vals[len(memory)-1 -i] = q_val # store values from the end to the beginning\n",
    "\n",
    "    advantage = torch.Tensor(q_vals) - values\n",
    "\n",
    "    critic_loss = advantage.pow(2).mean()\n",
    "    adam_critic.zero_grad()\n",
    "    critic_loss.backward()\n",
    "    adam_critic.step()\n",
    "\n",
    "    actor_loss = (-torch.stack(memory.log_probs)*(advantage.detach())).mean()\n",
    "    adam_actor.zero_grad()\n",
    "    actor_loss.backward()\n",
    "    adam_actor.step()\n",
    "    "
   ]
  },
  {
   "cell_type": "code",
   "execution_count": 14,
   "metadata": {},
   "outputs": [],
   "source": [
    "episode_rewards = []\n",
    "for i in range(500):\n",
    "    done = False\n",
    "    total_reward = 0\n",
    "    state = env.reset()\n",
    "    steps = 0\n",
    "\n",
    "    while not done:\n",
    "        probs = actor(t(state))\n",
    "        dist = torch.distributions.Categorical(probs=probs)\n",
    "        action = dist.sample()\n",
    "        next_state, reward, done, info = env.step(action.detach().data.numpy())\n",
    "        total_reward += reward\n",
    "        steps += 1\n",
    "        memory.add(dist.log_prob(action), critic(t(state)), reward, done)\n",
    "        \n",
    "        state = next_state\n",
    "\n",
    "        if done or (steps % max_step == 0):\n",
    "            last_q_val = critic(t(next_state)).detach().data.numpy()\n",
    "            train(memory, last_q_val)\n",
    "            memory.clear()\n",
    "    episode_rewards.append(total_reward)"
   ]
  },
  {
   "cell_type": "code",
   "execution_count": 15,
   "metadata": {},
   "outputs": [
    {
     "data": {
      "image/png": "[encoded data removed]",
      "text/plain": [
       "<Figure size 640x480 with 1 Axes>"
      ]
     },
     "metadata": {},
     "output_type": "display_data"
    }
   ],
   "source": [
    "plt.scatter(np.arange(len(episode_rewards)), episode_rewards, s=2)\n",
    "plt.title(\"Total reward per episode (episodic)\")\n",
    "plt.ylabel(\"reward\")\n",
    "plt.xlabel(\"episode\")\n",
    "plt.show()"
   ]
  },
  {
   "cell_type": "code",
   "execution_count": null,
   "metadata": {},
   "outputs": [],
   "source": []
  }
 ],
 "metadata": {
  "kernelspec": {
   "display_name": "rl",
   "language": "python",
   "name": "python3"
  },
  "language_info": {
   "codemirror_mode": {
    "name": "ipython",
    "version": 3
   },
   "file_extension": ".py",
   "mimetype": "text/x-python",
   "name": "python",
   "nbconvert_exporter": "python",
   "pygments_lexer": "ipython3",
   "version": "3.10.6"
  },
  "orig_nbformat": 4,
  "vscode": {
   "interpreter": {
    "hash": "f4b37f372283a8c99922d17183133e5aca394d7959d4796c7499e49363384b1d"
   }
  }
 },
 "nbformat": 4,
 "nbformat_minor": 2
}
