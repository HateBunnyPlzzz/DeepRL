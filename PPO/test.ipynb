{
 "cells": [
  {
   "cell_type": "code",
   "execution_count": 62,
   "metadata": {},
   "outputs": [
    {
     "name": "stdout",
     "output_type": "stream",
     "text": [
      "[-0.01936657  0.03738158  0.00576915 -0.00975155] (4,)\n",
      "[[-0.01936657  0.03738158  0.00576915 -0.00975155]] (1, 4)\n",
      "AxesSubplot(0.125,0.11;0.775x0.77)\n"
     ]
    },
    {
     "data": {
      "image/png": "[encoded data removed]",
      "text/plain": [
       "<Figure size 640x480 with 1 Axes>"
      ]
     },
     "metadata": {},
     "output_type": "display_data"
    }
   ],
   "source": [
    "import gym\n",
    "import numpy as np\n",
    "from agent import Agent\n",
    "from utils import plotLearning\n",
    "import seaborn\n",
    "\n",
    "if __name__ == '__main__':\n",
    "    env = gym.make('CartPole-v0')\n",
    "    N = 20\n",
    "    batch_size = 5\n",
    "    n_epochs = 4\n",
    "    alpha = 0.003\n",
    "    action_space = env.action_space\n",
    "    state_space = env.observation_space\n",
    "    \n",
    "    agent = Agent(n_actions=env.action_space.n, batch_size=batch_size,\n",
    "                  alpha=alpha, n_epochs=n_epochs,\n",
    "                  input_dims=env.observation_space.shape)\n",
    "    n_games = 1\n",
    "    filename = 'plots/catpole.png'\n",
    "    # minimum score for the environment\n",
    "    best_score = env.reward_range[0]\n",
    "    score_history = []\n",
    "    \n",
    "    learn_iters = 0\n",
    "    avg_score = 0\n",
    "    n_steps = 0\n",
    "\n",
    "    for i in range(n_games):\n",
    "        observation = env.reset()\n",
    "        print(observation, observation.shape)\n",
    "        flip_obs = np.reshape(observation, (-1,4))\n",
    "        print(flip_obs, flip_obs.shape)\n",
    "        done = False\n",
    "        score = 0\n",
    "        p1 = seaborn.scatterplot(data=flip_obs)\n",
    "        # p2 = seaborn.scatterplot(data=observation)\n",
    "        print(p1)\n",
    "        while not done:\n",
    "            action, prob, val = agent.choose_action(observation)\n",
    "            observation_, reward, done, info = env.step(action)\n",
    "            n_steps += 1\n",
    "            score += reward\n",
    "            agent.remember(observation, action, prob, val, reward, done)\n",
    "            if n_steps % N == 0:\n",
    "                agent.learn()\n",
    "                learn_iters += 1\n",
    "            observation = observation_\n",
    "          \n",
    "        score_history.append(score)\n",
    "        avg_score = np.mean(score_history[-100:])\n",
    "\n",
    "    #     if avg_score > best_score:\n",
    "    #         best_score= avg_score\n",
    "    #         agent.save_models()\n",
    "    #     print('episode', i, 'score%.1f' % score, 'avg score %.1f' % avg_score,\n",
    "    #           'time steps', n_steps, 'learning_steps', learn_iters)\n",
    "    # x = [i+1 for i in range(len(score_history))]\n",
    "    # plotLearning(x, score_history, filename=filename, epsilons=0.4)\n",
    "\n"
   ]
  },
  {
   "cell_type": "code",
   "execution_count": null,
   "metadata": {},
   "outputs": [],
   "source": []
  },
  {
   "cell_type": "code",
   "execution_count": 13,
   "metadata": {},
   "outputs": [],
   "source": []
  },
  {
   "cell_type": "code",
   "execution_count": null,
   "metadata": {},
   "outputs": [],
   "source": []
  }
 ],
 "metadata": {
  "kernelspec": {
   "display_name": "torch",
   "language": "python",
   "name": "python3"
  },
  "language_info": {
   "codemirror_mode": {
    "name": "ipython",
    "version": 3
   },
   "file_extension": ".py",
   "mimetype": "text/x-python",
   "name": "python",
   "nbconvert_exporter": "python",
   "pygments_lexer": "ipython3",
   "version": "3.7.15"
  },
  "orig_nbformat": 4,
  "vscode": {
   "interpreter": {
    "hash": "6f3abaf69894d597fa9ca409a6f984076e283acd7731d14790d9355fb97601d4"
   }
  }
 },
 "nbformat": 4,
 "nbformat_minor": 2
}
